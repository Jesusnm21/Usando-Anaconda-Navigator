{
 "cells": [
  {
   "cell_type": "markdown",
   "id": "ad0f6bab-896e-48d8-9c93-0d3041c24729",
   "metadata": {},
   "source": [
    "# Introdccion a Numpy"
   ]
  },
  {
   "cell_type": "markdown",
   "id": "e7d1861f-aee5-4304-b992-378e5991d74d",
   "metadata": {},
   "source": [
    "[Numpy](https://numpy.org/doc/stable/) es una libreria para la computacion con python.\n",
    "* Proporiona Arrays N-Dimensionales.\n",
    "* Implementa funciones matematicas sofisticadas\n",
    "* proporciona herramientas para integrar C/C++ y Fortran.\n",
    "* Proporciona mecanismos para facilitar la realizacion de las tareas relacionadas con algebra lineal o numeros aleatorios"
   ]
  },
  {
   "cell_type": "markdown",
   "id": "d70f32f9-6714-4f38-aaa5-f0701076c0a2",
   "metadata": {},
   "source": [
    "## Imports"
   ]
  },
  {
   "cell_type": "code",
   "execution_count": 1,
   "id": "3361594e-7111-4c8e-b86d-d80c30868150",
   "metadata": {},
   "outputs": [],
   "source": [
    "import numpy as np"
   ]
  },
  {
   "cell_type": "markdown",
   "id": "211099a8-5432-4021-8407-682aa0ec7c70",
   "metadata": {},
   "source": [
    "## Arrays\n",
    "Un **array** es una estructura de datos que consiste en una coleccion de elementos (valores o variables), cada uno identificdo por almenos un indice o clave. Un array se almacena de modo que la posicion de cada elemento se pueda calcular a partir de su tupla de inidce, mediante una formula matematica. El tipo mas simple de array es un array lineal tambien llamado array unidimensional"
   ]
  },
  {
   "cell_type": "markdown",
   "id": "989554d1-b2e4-4690-8a1b-23b6ff08fbe2",
   "metadata": {},
   "source": [
    "En Numpy:\n",
    "* Cada dimension se denomina **axis**\n",
    "* El numero de dimensiones se denomina **rank**\n",
    "* La lista de dimensiones con su correspondiente longitud se denomina **shape**\n",
    "* El numero total de elementos (multiplicacion de la longitud de las dimensiones) a esto se denomina **size**"
   ]
  },
  {
   "cell_type": "code",
   "execution_count": 2,
   "id": "df13a5a4-490d-4c69-bc57-b17f23db7d32",
   "metadata": {},
   "outputs": [
    {
     "data": {
      "text/plain": [
       "array([[0., 0., 0., 0.],\n",
       "       [0., 0., 0., 0.]])"
      ]
     },
     "execution_count": 2,
     "metadata": {},
     "output_type": "execute_result"
    }
   ],
   "source": [
    "# Array cuyos valores son todos 0.\n",
    "a= np.zeros((2, 4))\n",
    "a"
   ]
  },
  {
   "cell_type": "markdown",
   "id": "707e40a6-10dc-4970-98aa-f4c6c3244563",
   "metadata": {},
   "source": [
    "_a_ es una array:\n",
    "\n",
    "* con dos **axis**, el primero de longitud 2 y el segundo de longitud 4.\n",
    "* Con un **rank** igual a 2\n",
    "* Con un **shape** igual a (2,4)\n",
    "* Con un **size** igual a 8"
   ]
  },
  {
   "cell_type": "code",
   "execution_count": 3,
   "id": "4fca9a22-3afe-4192-b04a-7c901774d4e1",
   "metadata": {},
   "outputs": [
    {
     "data": {
      "text/plain": [
       "(2, 4)"
      ]
     },
     "execution_count": 3,
     "metadata": {},
     "output_type": "execute_result"
    }
   ],
   "source": [
    "a.shape"
   ]
  },
  {
   "cell_type": "code",
   "execution_count": 4,
   "id": "bfdf560b-2890-478b-977a-9d0d983ef5c1",
   "metadata": {},
   "outputs": [
    {
     "data": {
      "text/plain": [
       "2"
      ]
     },
     "execution_count": 4,
     "metadata": {},
     "output_type": "execute_result"
    }
   ],
   "source": [
    "a.ndim"
   ]
  },
  {
   "cell_type": "code",
   "execution_count": 5,
   "id": "56a8c865-4b95-4ade-b81f-a8ecc42bed11",
   "metadata": {},
   "outputs": [
    {
     "data": {
      "text/plain": [
       "8"
      ]
     },
     "execution_count": 5,
     "metadata": {},
     "output_type": "execute_result"
    }
   ],
   "source": [
    "a.size"
   ]
  },
  {
   "cell_type": "markdown",
   "id": "844138cd-39bf-40d4-b935-4037b4f571f9",
   "metadata": {},
   "source": [
    "## Creacion de Arrays\n"
   ]
  },
  {
   "cell_type": "code",
   "execution_count": 6,
   "id": "dd52759a-4e2c-40f7-9688-f0a68f612cce",
   "metadata": {},
   "outputs": [
    {
     "data": {
      "text/plain": [
       "array([[[0., 0., 0., 0.],\n",
       "        [0., 0., 0., 0.],\n",
       "        [0., 0., 0., 0.]],\n",
       "\n",
       "       [[0., 0., 0., 0.],\n",
       "        [0., 0., 0., 0.],\n",
       "        [0., 0., 0., 0.]]])"
      ]
     },
     "execution_count": 6,
     "metadata": {},
     "output_type": "execute_result"
    }
   ],
   "source": [
    "# Array cuyos valores son todos 0\n",
    "np.zeros((2,3,4))"
   ]
  },
  {
   "cell_type": "code",
   "execution_count": 7,
   "id": "f2c99387-5ce9-4749-9734-07436a6d8948",
   "metadata": {},
   "outputs": [
    {
     "data": {
      "text/plain": [
       "array([[[1., 1., 1., 1.],\n",
       "        [1., 1., 1., 1.],\n",
       "        [1., 1., 1., 1.]],\n",
       "\n",
       "       [[1., 1., 1., 1.],\n",
       "        [1., 1., 1., 1.],\n",
       "        [1., 1., 1., 1.]]])"
      ]
     },
     "execution_count": 7,
     "metadata": {},
     "output_type": "execute_result"
    }
   ],
   "source": [
    "# Array cuyos valores son todos 1\n",
    "np.ones((2,3,4))"
   ]
  },
  {
   "cell_type": "code",
   "execution_count": 8,
   "id": "7571dc3e-e4a2-44d2-8b2b-19ea9cf6e9d2",
   "metadata": {},
   "outputs": [
    {
     "data": {
      "text/plain": [
       "array([[[8, 8, 8, 8],\n",
       "        [8, 8, 8, 8],\n",
       "        [8, 8, 8, 8]],\n",
       "\n",
       "       [[8, 8, 8, 8],\n",
       "        [8, 8, 8, 8],\n",
       "        [8, 8, 8, 8]]])"
      ]
     },
     "execution_count": 8,
     "metadata": {},
     "output_type": "execute_result"
    }
   ],
   "source": [
    "# Array cuyos valores son todos el valor indicado como segundo parametro de la funcion\n",
    "np.full((2,3,4),8)"
   ]
  },
  {
   "cell_type": "code",
   "execution_count": 9,
   "id": "5e5e2935-81f4-461b-a3d9-c47b98b06101",
   "metadata": {},
   "outputs": [
    {
     "data": {
      "text/plain": [
       "array([[[ 8.62464756e-317,  0.00000000e+000,  3.77172086e-317,\n",
       "          4.03182258e-246,  6.92342677e-310,  3.77170505e-317,\n",
       "         -2.52548782e+018,  6.92342811e-310,  6.92342677e-310],\n",
       "        [ 4.36125427e+043,  6.92342677e-310,  6.92342676e-310,\n",
       "         -7.87637039e+214,  6.92342677e-310,  3.77170505e-317,\n",
       "          2.89027741e+011,  6.92342677e-310,  6.92342915e-310],\n",
       "        [-3.28186256e-094,  6.92342677e-310,  3.77172086e-317,\n",
       "         -4.35581174e+261,  6.92342679e-310,  6.92342677e-310,\n",
       "         -3.25367713e-011,  6.92342677e-310,  3.77170505e-317]],\n",
       "\n",
       "       [[-1.63573452e+218,  6.92342677e-310,  6.92342677e-310,\n",
       "          3.31505661e-302,  6.92342677e-310,  8.89468358e-317,\n",
       "          3.61250624e+122,  6.92342677e-310,  6.92342677e-310],\n",
       "        [-9.13951861e-256,  6.92342677e-310,  6.92342677e-310,\n",
       "          1.09903699e+297,  6.92342677e-310,  3.77170505e-317,\n",
       "          5.87942096e+243,  6.92342677e-310,  3.77170505e-317],\n",
       "        [ 2.96420853e-198,  6.92342677e-310,  6.92342677e-310,\n",
       "          2.18959932e-280,  6.92342679e-310,  9.14751081e-317,\n",
       "          1.28653140e-252,  6.92342674e-310,  9.23312250e-317]]])"
      ]
     },
     "execution_count": 9,
     "metadata": {},
     "output_type": "execute_result"
    }
   ],
   "source": [
    "# El resultado de np.empty no es predecible\n",
    "# Se inicializa con los valores del array con lo que haya en memoria en ese momento\n",
    "np.empty((2,3,9))"
   ]
  },
  {
   "cell_type": "code",
   "execution_count": 10,
   "id": "83f6c755",
   "metadata": {},
   "outputs": [
    {
     "data": {
      "text/plain": [
       "array([[1, 2, 3],\n",
       "       [4, 5, 6]])"
      ]
     },
     "execution_count": 10,
     "metadata": {},
     "output_type": "execute_result"
    }
   ],
   "source": [
    "#Inicializar el array utilizando un array de Python\n",
    "b=np.array([[1,2,3], [4,5,6]])\n",
    "b"
   ]
  },
  {
   "cell_type": "code",
   "execution_count": 11,
   "id": "d683776a",
   "metadata": {},
   "outputs": [
    {
     "data": {
      "text/plain": [
       "(2, 3)"
      ]
     },
     "execution_count": 11,
     "metadata": {},
     "output_type": "execute_result"
    }
   ],
   "source": [
    "b.shape"
   ]
  },
  {
   "cell_type": "code",
   "execution_count": 12,
   "id": "9aba70c0",
   "metadata": {},
   "outputs": [
    {
     "name": "stdout",
     "output_type": "stream",
     "text": [
      "[0.         0.66666667 1.33333333 2.         2.66666667 3.33333333\n",
      " 4.         4.66666667 5.33333333 6.        ]\n"
     ]
    }
   ],
   "source": [
    "# Crear un array utilizando una funcion basada en rangos\n",
    "#(minimo,maximo,numero elementos del array)\n",
    "print(np.linspace(0,6,10))"
   ]
  },
  {
   "cell_type": "code",
   "execution_count": 13,
   "id": "5ace2914",
   "metadata": {},
   "outputs": [
    {
     "data": {
      "text/plain": [
       "array([[[0.17668215, 0.8620062 , 0.3465681 , 0.41524337],\n",
       "        [0.932917  , 0.77654134, 0.47804248, 0.06130126],\n",
       "        [0.64987832, 0.76048597, 0.30931948, 0.84286252]],\n",
       "\n",
       "       [[0.75708896, 0.67669384, 0.50897835, 0.92030351],\n",
       "        [0.82101019, 0.29045264, 0.18512181, 0.22269108],\n",
       "        [0.27419697, 0.65941558, 0.34387209, 0.53353637]]])"
      ]
     },
     "execution_count": 13,
     "metadata": {},
     "output_type": "execute_result"
    }
   ],
   "source": [
    "# Inicializar el array con valores aleatorios.\n",
    "np.random.rand(2,3,4)"
   ]
  },
  {
   "cell_type": "code",
   "execution_count": 14,
   "id": "1f3bc5aa",
   "metadata": {},
   "outputs": [
    {
     "data": {
      "text/plain": [
       "array([[ 0.48785911, -1.02151676,  1.614854  , -0.17230471],\n",
       "       [-0.355344  ,  0.41953501,  0.91568087, -0.94567872]])"
      ]
     },
     "execution_count": 14,
     "metadata": {},
     "output_type": "execute_result"
    }
   ],
   "source": [
    "# Iniciar arreglo con valores aleatorios con forme a una distribucion normal.\n",
    "np.random.randn(2,4)"
   ]
  },
  {
   "cell_type": "code",
   "execution_count": 15,
   "id": "e83d449c",
   "metadata": {},
   "outputs": [
    {
     "data": {
      "image/png": "[encoded data removed]",
      "text/plain": [
       "<Figure size 640x480 with 1 Axes>"
      ]
     },
     "metadata": {},
     "output_type": "display_data"
    }
   ],
   "source": [
    "%matplotlib inline\n",
    "import matplotlib.pyplot as plt\n",
    "\n",
    "c=np.random.randn(1000000)\n",
    "plt.hist(c,bins=600)\n",
    "plt.show()"
   ]
  },
  {
   "cell_type": "code",
   "execution_count": 16,
   "id": "c408c921",
   "metadata": {},
   "outputs": [
    {
     "data": {
      "text/plain": [
       "array([[ 0.,  2.,  4.,  6.,  8.],\n",
       "       [ 1.,  3.,  5.,  7.,  9.],\n",
       "       [ 2.,  4.,  6.,  8., 10.]])"
      ]
     },
     "execution_count": 16,
     "metadata": {},
     "output_type": "execute_result"
    }
   ],
   "source": [
    "# Inicializar un array . utilizando una funcion personalizada\n",
    "\n",
    "def func(x,y):\n",
    "    return x + 2 * y\n",
    "\n",
    "np.fromfunction(func, (3,5))"
   ]
  },
  {
   "cell_type": "code",
   "execution_count": 17,
   "id": "5d8b86ad",
   "metadata": {},
   "outputs": [
    {
     "name": "stdout",
     "output_type": "stream",
     "text": [
      "Shape: (6,)\n",
      "Array_uni [ 1  3  5  7  9 11]\n"
     ]
    }
   ],
   "source": [
    "# Acceder a los elementos de un array.\n",
    "array_uni  = np.array([1,3,5,7,9,11])\n",
    "print (\"Shape:\", array_uni.shape)\n",
    "print (\"Array_uni\", array_uni)"
   ]
  },
  {
   "cell_type": "code",
   "execution_count": 18,
   "id": "9d125e7d",
   "metadata": {},
   "outputs": [
    {
     "data": {
      "text/plain": [
       "np.int64(9)"
      ]
     },
     "execution_count": 18,
     "metadata": {},
     "output_type": "execute_result"
    }
   ],
   "source": [
    "# Accediendo al quinto elemento del array\n",
    "array_uni[4]"
   ]
  },
  {
   "cell_type": "code",
   "execution_count": 19,
   "id": "6223a76e",
   "metadata": {},
   "outputs": [
    {
     "data": {
      "text/plain": [
       "array([5, 7])"
      ]
     },
     "execution_count": 19,
     "metadata": {},
     "output_type": "execute_result"
    }
   ],
   "source": [
    "#Acceder al tercer y cuarto elemento del array\n",
    "array_uni[2:4]"
   ]
  },
  {
   "cell_type": "markdown",
   "id": "657aadad",
   "metadata": {},
   "source": [
    "# Array Multidimensional"
   ]
  },
  {
   "cell_type": "code",
   "execution_count": 20,
   "id": "ea02598e",
   "metadata": {},
   "outputs": [
    {
     "name": "stdout",
     "output_type": "stream",
     "text": [
      "Shape: (2, 4)\n",
      "Array_multi:\n",
      " [[1 2 3 4]\n",
      " [5 6 7 8]]\n"
     ]
    }
   ],
   "source": [
    "# crear un array multidimensional\n",
    "array_multi=np.array([[1,2,3,4],[5,6,7,8]])\n",
    "print(\"Shape:\", array_multi.shape)\n",
    "print(\"Array_multi:\\n\", array_multi)"
   ]
  },
  {
   "cell_type": "code",
   "execution_count": 21,
   "id": "88ef61d6",
   "metadata": {},
   "outputs": [
    {
     "data": {
      "text/plain": [
       "np.int64(4)"
      ]
     },
     "execution_count": 21,
     "metadata": {},
     "output_type": "execute_result"
    }
   ],
   "source": [
    "# Acceder al cuarto elemento del array \n",
    "array_multi[0,3]"
   ]
  },
  {
   "cell_type": "code",
   "execution_count": 22,
   "id": "da37e655",
   "metadata": {},
   "outputs": [
    {
     "data": {
      "text/plain": [
       "array([5, 6, 7, 8])"
      ]
     },
     "execution_count": 22,
     "metadata": {},
     "output_type": "execute_result"
    }
   ],
   "source": [
    "# Acceder a la segunda fila del array\n",
    "array_multi[1, :]"
   ]
  },
  {
   "cell_type": "code",
   "execution_count": 23,
   "id": "6780f643",
   "metadata": {},
   "outputs": [
    {
     "data": {
      "text/plain": [
       "array([3, 7])"
      ]
     },
     "execution_count": 23,
     "metadata": {},
     "output_type": "execute_result"
    }
   ],
   "source": [
    "# Acceder al primer elemento de las dos primeras filas del array\n",
    "array_multi[0:2, 2]"
   ]
  },
  {
   "cell_type": "markdown",
   "id": "871c709c",
   "metadata": {},
   "source": [
    "## Modificacion de un array"
   ]
  },
  {
   "cell_type": "code",
   "execution_count": 24,
   "id": "81cf458d",
   "metadata": {},
   "outputs": [
    {
     "name": "stdout",
     "output_type": "stream",
     "text": [
      "Shape: (28,)\n",
      "Array:\n",
      " [ 0  1  2  3  4  5  6  7  8  9 10 11 12 13 14 15 16 17 18 19 20 21 22 23\n",
      " 24 25 26 27]\n"
     ]
    }
   ],
   "source": [
    "# Crear un arreglo unidimensional e inicializarlo con un rango de elemementos del 0 al 27\n",
    "array1= np.arange(28)\n",
    "print(\"Shape:\", array1.shape)\n",
    "print(\"Array:\\n\", array1)"
   ]
  },
  {
   "cell_type": "code",
   "execution_count": 25,
   "id": "bde9b985",
   "metadata": {},
   "outputs": [
    {
     "name": "stdout",
     "output_type": "stream",
     "text": [
      "Shape: (7, 4)\n",
      "Array:\n",
      " [[ 0  1  2  3]\n",
      " [ 4  5  6  7]\n",
      " [ 8  9 10 11]\n",
      " [12 13 14 15]\n",
      " [16 17 18 19]\n",
      " [20 21 22 23]\n",
      " [24 25 26 27]]\n"
     ]
    }
   ],
   "source": [
    "# Cambiar las dimensiones del array y sus longitudes.\n",
    "array1.shape=(7,4)\n",
    "print(\"Shape:\", array1.shape)\n",
    "print(\"Array:\\n\", array1)"
   ]
  },
  {
   "cell_type": "code",
   "execution_count": 26,
   "id": "949454a5",
   "metadata": {},
   "outputs": [
    {
     "name": "stdout",
     "output_type": "stream",
     "text": [
      "Shape: (4, 7)\n",
      "Array:\n",
      " [[ 0  1  2  3  4  5  6]\n",
      " [ 7  8  9 10 11 12 13]\n",
      " [14 15 16 17 18 19 20]\n",
      " [21 22 23 24 25 26 27]]\n"
     ]
    }
   ],
   "source": [
    "# El ejemplo anterior devuelve un nuevo array que apunta a los mismos datos\n",
    "#Nota: modificaciones en el array, modificaran el otro array.\n",
    "array2= array1.reshape(4,7)\n",
    "print(\"Shape:\", array2.shape)\n",
    "print(\"Array:\\n\", array2)"
   ]
  },
  {
   "cell_type": "code",
   "execution_count": 27,
   "id": "369b5096",
   "metadata": {},
   "outputs": [
    {
     "name": "stdout",
     "output_type": "stream",
     "text": [
      "Array:\n",
      " [[ 0  1  2  3  4  5  6]\n",
      " [ 7  8  9 30 11 12 13]\n",
      " [14 15 16 17 18 19 20]\n",
      " [21 22 23 24 25 26 27]]\n"
     ]
    }
   ],
   "source": [
    "# Modificacion del nuevo array devuelto\n",
    "array2[1,3]=30\n",
    "print(\"Array:\\n\", array2)"
   ]
  },
  {
   "cell_type": "code",
   "execution_count": 28,
   "id": "063ffcf3",
   "metadata": {},
   "outputs": [
    {
     "name": "stdout",
     "output_type": "stream",
     "text": [
      "Array1:\n",
      " [[ 0  1  2  3]\n",
      " [ 4  5  6  7]\n",
      " [ 8  9 30 11]\n",
      " [12 13 14 15]\n",
      " [16 17 18 19]\n",
      " [20 21 22 23]\n",
      " [24 25 26 27]]\n"
     ]
    }
   ],
   "source": [
    "print(\"Array1:\\n\", array1)"
   ]
  },
  {
   "cell_type": "code",
   "execution_count": 29,
   "id": "26080847",
   "metadata": {},
   "outputs": [
    {
     "name": "stdout",
     "output_type": "stream",
     "text": [
      "Array1: [ 0  1  2  3  4  5  6  7  8  9 30 11 12 13 14 15 16 17 18 19 20 21 22 23\n",
      " 24 25 26 27]\n"
     ]
    }
   ],
   "source": [
    "# Devolver el array a su estado original\n",
    "print(\"Array1:\", array1.ravel())"
   ]
  },
  {
   "cell_type": "markdown",
   "id": "a2f6d8c4",
   "metadata": {},
   "source": [
    "## Operaciones aritmeticas con Arrays"
   ]
  },
  {
   "cell_type": "code",
   "execution_count": 30,
   "id": "65dd943f",
   "metadata": {},
   "outputs": [
    {
     "name": "stdout",
     "output_type": "stream",
     "text": [
      "Array1: [ 2  4  6  8 10 12 14 16]\n",
      "Array2: [0 1 2 3 4 5 6 7]\n"
     ]
    }
   ],
   "source": [
    "array1=np.arange(2,18,2)\n",
    "array2=np.arange(8)\n",
    "print(\"Array1:\", array1)\n",
    "print(\"Array2:\", array2)"
   ]
  },
  {
   "cell_type": "code",
   "execution_count": 31,
   "id": "f89e57b7",
   "metadata": {},
   "outputs": [
    {
     "name": "stdout",
     "output_type": "stream",
     "text": [
      "[ 2  5  8 11 14 17 20 23]\n"
     ]
    }
   ],
   "source": [
    "# suma\n",
    "print(array1 + array2)"
   ]
  },
  {
   "cell_type": "code",
   "execution_count": 32,
   "id": "ae780de2",
   "metadata": {},
   "outputs": [
    {
     "name": "stdout",
     "output_type": "stream",
     "text": [
      "[2 3 4 5 6 7 8 9]\n"
     ]
    }
   ],
   "source": [
    "# Resta\n",
    "print(array1-array2)"
   ]
  },
  {
   "cell_type": "code",
   "execution_count": 33,
   "id": "20914fec",
   "metadata": {},
   "outputs": [
    {
     "name": "stdout",
     "output_type": "stream",
     "text": [
      "[  0   4  12  24  40  60  84 112]\n"
     ]
    }
   ],
   "source": [
    "# Multiplicacion\n",
    "# Nota: no es una multiplicacion de matrices\n",
    "print(array1*array2)"
   ]
  },
  {
   "cell_type": "markdown",
   "id": "a4616554-2a2b-485b-ad9e-ca7c502264c2",
   "metadata": {},
   "source": [
    "## Broadcasting\n",
    "Si se aplican operaciones aritmeticas sobre arrays que no tienen la misma forma (shape) , Numpy aplica una propiedad que se llama Broadcasting"
   ]
  },
  {
   "cell_type": "code",
   "execution_count": 34,
   "id": "052f5a2e-0a97-479c-81c8-9064b2074c64",
   "metadata": {},
   "outputs": [
    {
     "name": "stdout",
     "output_type": "stream",
     "text": [
      "Shape: (5,)\n",
      "Array:\n",
      " [0 1 2 3 4]\n",
      "\n",
      "\n",
      "Shape: (1,)\n",
      "Array:\n",
      " [3]\n"
     ]
    }
   ],
   "source": [
    "array1=np.arange(5)\n",
    "array2= np.array([3])\n",
    "print(\"Shape:\", array1.shape)\n",
    "print(\"Array:\\n\", array1)\n",
    "print(\"\\n\")\n",
    "print(\"Shape:\", array2.shape)\n",
    "print(\"Array:\\n\", array2)"
   ]
  },
  {
   "cell_type": "code",
   "execution_count": 35,
   "id": "eba33974-0035-407c-88f3-c86dcbbf537b",
   "metadata": {},
   "outputs": [
    {
     "data": {
      "text/plain": [
       "array([3, 4, 5, 6, 7])"
      ]
     },
     "execution_count": 35,
     "metadata": {},
     "output_type": "execute_result"
    }
   ],
   "source": [
    "# Suma de ambos arrays\n",
    "array1 + array2"
   ]
  },
  {
   "cell_type": "code",
   "execution_count": 36,
   "id": "919d2e9e-c3d3-4b47-a372-47fcf1597847",
   "metadata": {},
   "outputs": [
    {
     "data": {
      "text/plain": [
       "array([ 0,  3,  6,  9, 12])"
      ]
     },
     "execution_count": 36,
     "metadata": {},
     "output_type": "execute_result"
    }
   ],
   "source": [
    "#Multiplicacion\n",
    "array1 * array2"
   ]
  },
  {
   "cell_type": "markdown",
   "id": "6e086908-3ae4-4bb5-b780-c32e4848a335",
   "metadata": {},
   "source": [
    "## Funciones estadisticas sobre arrays\n"
   ]
  },
  {
   "cell_type": "code",
   "execution_count": 37,
   "id": "eea26bf6-7895-48a9-ad5e-2a7a86039004",
   "metadata": {},
   "outputs": [
    {
     "name": "stdout",
     "output_type": "stream",
     "text": [
      "Array:\n",
      " [ 1  3  5  7  9 11 13 15 17 19]\n"
     ]
    }
   ],
   "source": [
    "# Creacion de un array unidimensional\n",
    "array1=np.arange(1,20,2)\n",
    "print(\"Array:\\n\", array1)"
   ]
  },
  {
   "cell_type": "code",
   "execution_count": 38,
   "id": "46b6bd25-0f4e-4b6e-a6da-664a5c234e43",
   "metadata": {},
   "outputs": [
    {
     "data": {
      "text/plain": [
       "np.float64(10.0)"
      ]
     },
     "execution_count": 38,
     "metadata": {},
     "output_type": "execute_result"
    }
   ],
   "source": [
    "# Media de los elementos del array\n",
    "array1.mean()"
   ]
  },
  {
   "cell_type": "code",
   "execution_count": 39,
   "id": "a18132fe-114a-4738-98c9-be63ddc645ca",
   "metadata": {},
   "outputs": [
    {
     "data": {
      "text/plain": [
       "np.int64(100)"
      ]
     },
     "execution_count": 39,
     "metadata": {},
     "output_type": "execute_result"
    }
   ],
   "source": [
    "# Suma de los elementos del array\n",
    "array1.sum()"
   ]
  },
  {
   "cell_type": "markdown",
   "id": "98fb3b0b-54a6-4c26-ad49-f74fe8eaa134",
   "metadata": {},
   "source": [
    "# Funciones universales proporcionadas por numpy: **ufunc**"
   ]
  },
  {
   "cell_type": "code",
   "execution_count": 40,
   "id": "43d18997-1db3-4175-be99-81ccfdf95700",
   "metadata": {},
   "outputs": [
    {
     "data": {
      "text/plain": [
       "array([  1,   9,  25,  49,  81, 121, 169, 225, 289, 361])"
      ]
     },
     "execution_count": 40,
     "metadata": {},
     "output_type": "execute_result"
    }
   ],
   "source": [
    "# Cuadrado de los elementos del array\n",
    "np.square(array1)"
   ]
  },
  {
   "cell_type": "code",
   "execution_count": 41,
   "id": "d388d6c8-f5ca-4c7c-8b2c-e4d5db468899",
   "metadata": {},
   "outputs": [
    {
     "data": {
      "text/plain": [
       "array([1.        , 1.73205081, 2.23606798, 2.64575131, 3.        ,\n",
       "       3.31662479, 3.60555128, 3.87298335, 4.12310563, 4.35889894])"
      ]
     },
     "execution_count": 41,
     "metadata": {},
     "output_type": "execute_result"
    }
   ],
   "source": [
    "# Raiz cuadrada de los elementos del array\n",
    "np.sqrt(array1)"
   ]
  },
  {
   "cell_type": "code",
   "execution_count": 42,
   "id": "ea3e7d43-6b29-467c-9feb-2cfeae5a6c62",
   "metadata": {},
   "outputs": [
    {
     "data": {
      "text/plain": [
       "array([2.71828183e+00, 2.00855369e+01, 1.48413159e+02, 1.09663316e+03,\n",
       "       8.10308393e+03, 5.98741417e+04, 4.42413392e+05, 3.26901737e+06,\n",
       "       2.41549528e+07, 1.78482301e+08])"
      ]
     },
     "execution_count": 42,
     "metadata": {},
     "output_type": "execute_result"
    }
   ],
   "source": [
    "# Exponencial de los elementos del array\n",
    "np.exp(array1)"
   ]
  },
  {
   "cell_type": "code",
   "execution_count": 43,
   "id": "ea237920-cfc0-40c3-a61f-9f5293958ccc",
   "metadata": {},
   "outputs": [
    {
     "data": {
      "text/plain": [
       "array([0.        , 1.09861229, 1.60943791, 1.94591015, 2.19722458,\n",
       "       2.39789527, 2.56494936, 2.7080502 , 2.83321334, 2.94443898])"
      ]
     },
     "execution_count": 43,
     "metadata": {},
     "output_type": "execute_result"
    }
   ],
   "source": [
    "# log de los elementos del array\n",
    "np.log(array1)"
   ]
  },
  {
   "cell_type": "code",
   "execution_count": null,
   "id": "df9cfe3a-ba00-40e1-af94-e71631e602ad",
   "metadata": {},
   "outputs": [],
   "source": []
  }
 ],
 "metadata": {
  "kernelspec": {
   "display_name": "Python 3 (ipykernel)",
   "language": "python",
   "name": "python3"
  },
  "language_info": {
   "codemirror_mode": {
    "name": "ipython",
    "version": 3
   },
   "file_extension": ".py",
   "mimetype": "text/x-python",
   "name": "python",
   "nbconvert_exporter": "python",
   "pygments_lexer": "ipython3",
   "version": "3.10.9"
  }
 },
 "nbformat": 4,
 "nbformat_minor": 5
}
